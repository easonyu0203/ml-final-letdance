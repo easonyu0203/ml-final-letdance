{
 "cells": [
  {
   "cell_type": "markdown",
   "source": [
    "# Researching the data\n",
    "First have a look at the data and see what we have to work with."
   ],
   "metadata": {
    "collapsed": false
   }
  },
  {
   "cell_type": "code",
   "execution_count": 1,
   "metadata": {
    "collapsed": true,
    "ExecuteTime": {
     "end_time": "2023-05-27T16:25:47.341222Z",
     "start_time": "2023-05-27T16:25:35.670634Z"
    }
   },
   "outputs": [],
   "source": [
    "import pandas as pd\n",
    "import numpy as np\n",
    "\n",
    "train_ds = pd.read_csv('data/train.csv')"
   ]
  },
  {
   "cell_type": "markdown",
   "source": [
    "# Data description\n",
    "Define all columns and the type of feature they are, numerical or categorical or ordinal.\n",
    "* Danceability: Numerical feature - a measure from 0 to 10 describing how suitable a track is for dancing.\n",
    "* Track: string feature - name of the song, as visible on the Spotify platform.\n",
    "* Artist: string feature - name of the artist.\n",
    "* Composer: string feature - name of the composer.\n",
    "* Album: string feature - the album in which the song is contained on Spotify.\n",
    "* Channel: string feature - name of the channel that has published the video.\n",
    "* Title: string feature - title of the video clip on YouTube.\n",
    "* Album_type: Categorical feature - indicates if the song is released on Spotify as a single or contained in an album.\n",
    "* Key: Categorical feature - the key the track is in, mapped to pitches using standard Pitch Class notation.\n",
    "* Licensed: Categorical feature - indicates whether the video represents licensed content.\n",
    "* official_video: Categorical feature - boolean value that indicates if the video found is the official video of the song.\n",
    "* Energy: Numerical feature - a measure from 0.0 to 1.0 representing the perceptual measure of intensity and activity.\n",
    "* Loudness: Numerical feature - the overall loudness of a track in decibels (dB).\n",
    "* Speechiness: Numerical feature - detects the presence of spoken words in a track.\n",
    "* Acousticness: Numerical feature - a confidence measure from 0.0 to 1.0 of whether the track is acoustic.\n",
    "* Instrumentalness: Numerical feature - predicts whether a track contains no vocals.\n",
    "* Liveness: Numerical feature - detects the presence of an audience in the recording.\n",
    "* Valence: Numerical feature - a measure from 0.0 to 1.0 describing the musical positiveness conveyed by a track.\n",
    "* Tempo: Numerical feature - the overall estimated tempo of a track in beats per minute (BPM).\n",
    "* Duration_ms: Numerical feature - the duration of the track in milliseconds.\n",
    "* Stream: Numerical feature - number of streams of the song on Spotify.\n",
    "* Views: Numerical feature - number of views.\n",
    "* Likes: Numerical feature - number of likes.\n",
    "* Comments: Numerical feature - number of comments.\n",
    "* Description: string feature - description of the video on YouTube."
   ],
   "metadata": {
    "collapsed": false
   }
  },
  {
   "cell_type": "code",
   "execution_count": 10,
   "outputs": [],
   "source": [
    "label_feature = 'Danceability'\n",
    "numerical_features = ['Energy', 'Loudness', 'Speechiness', 'Acousticness',\n",
    "                      'Instrumentalness', 'Liveness', 'Valence', 'Tempo', 'Duration_ms', 'Stream',\n",
    "                      'Views', 'Likes', 'Comments']\n",
    "\n",
    "categorical_features = ['Album_type', 'Key', 'Licensed', 'official_video']\n",
    "\n",
    "string_features = [\n",
    "    'Track', 'Artist', 'Composer', 'Url_spotify', 'Album', 'Uri', 'Url_youtube', 'Title', 'Channel', 'Description'\n",
    "]\n"
   ],
   "metadata": {
    "collapsed": false,
    "ExecuteTime": {
     "end_time": "2023-05-27T16:43:02.949271Z",
     "start_time": "2023-05-27T16:43:02.945597Z"
    }
   }
  },
  {
   "cell_type": "markdown",
   "source": [
    "# Nan values percentage\n",
    "for each columns we find the percentage of Nan values"
   ],
   "metadata": {
    "collapsed": false
   }
  },
  {
   "cell_type": "code",
   "execution_count": 3,
   "outputs": [
    {
     "data": {
      "text/plain": "array(['album', nan, 'single', 'compilation'], dtype=object)"
     },
     "execution_count": 3,
     "metadata": {},
     "output_type": "execute_result"
    }
   ],
   "source": [],
   "metadata": {
    "collapsed": false,
    "ExecuteTime": {
     "end_time": "2023-05-27T16:26:01.901120Z",
     "start_time": "2023-05-27T16:26:01.899606Z"
    }
   }
  }
 ],
 "metadata": {
  "kernelspec": {
   "display_name": "Python 3",
   "language": "python",
   "name": "python3"
  },
  "language_info": {
   "codemirror_mode": {
    "name": "ipython",
    "version": 2
   },
   "file_extension": ".py",
   "mimetype": "text/x-python",
   "name": "python",
   "nbconvert_exporter": "python",
   "pygments_lexer": "ipython2",
   "version": "2.7.6"
  }
 },
 "nbformat": 4,
 "nbformat_minor": 0
}
