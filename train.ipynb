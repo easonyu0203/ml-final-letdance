{
 "cells": [
  {
   "cell_type": "code",
   "execution_count": 1,
   "metadata": {
    "is_executing": true
   },
   "outputs": [],
   "source": [
    "import pandas as pd\n",
    "import numpy as np\n",
    "import matplotlib.pyplot as plt\n",
    "from sklearn.model_selection import GridSearchCV\n",
    "from sklearn.metrics import make_scorer\n",
    "from sklearn.metrics import mean_absolute_error\n",
    "from sklearn.ensemble import HistGradientBoostingRegressor\n",
    "from sklearn.preprocessing import StandardScaler, MinMaxScaler, PowerTransformer, FunctionTransformer\n",
    "import xgboost as xgb"
   ]
  },
  {
   "cell_type": "code",
   "execution_count": 3,
   "metadata": {
    "ExecuteTime": {
     "end_time": "2023-05-29T15:25:39.575411Z",
     "start_time": "2023-05-29T15:25:39.573585Z"
    }
   },
   "outputs": [],
   "source": [
    "label_feature = 'Danceability'\n",
    "numerical_features = ['Energy', 'Loudness', 'Speechiness', 'Acousticness',\n",
    "                      'Instrumentalness', 'Liveness', 'Valence', 'Tempo', 'Duration_ms', 'Stream',\n",
    "                      'Views', 'Likes', 'Comments']\n",
    "\n",
    "categorical_features = ['Album_type', 'Key', 'Licensed', 'official_video']\n",
    "\n",
    "string_features = [\n",
    "    'Track', 'Artist', 'Composer', 'Album', 'Title', 'Channel', 'Description'\n",
    "]"
   ]
  },
  {
   "attachments": {},
   "cell_type": "markdown",
   "metadata": {},
   "source": [
    "# Define used features"
   ]
  },
  {
   "cell_type": "code",
   "execution_count": 5,
   "metadata": {
    "ExecuteTime": {
     "end_time": "2023-05-29T15:25:45.182645Z",
     "start_time": "2023-05-29T15:25:44.736301Z"
    }
   },
   "outputs": [],
   "source": [
    "from my_transformer import MyTransformer\n",
    "import pandas as pd\n",
    "import numpy as np\n",
    "\n",
    "# label\n",
    "label_feature = 'Danceability'\n",
    "\n",
    "# features\n",
    "dont_transform_features = ['Energy', 'Speechiness', 'Acousticness', 'Instrumentalness', 'Liveness', 'Valence']\n",
    "normal_transform_features = ['Tempo']\n",
    "power_transform_features = ['Loudness', 'Duration_ms', 'Stream', 'Views', 'Likes', 'Comments']\n",
    "categorical_features = ['Album_type', 'Key', 'Licensed', 'official_video']\n",
    "numerical_features=dont_transform_features + normal_transform_features + power_transform_features\n",
    "\n",
    "# all features\n",
    "features_columns = dont_transform_features + normal_transform_features + power_transform_features + categorical_features\n",
    "label_column = label_feature\n",
    "\n",
    "# import data\n",
    "train_df = pd.read_csv('data/train.csv')[features_columns + [label_column]]\n",
    "test_df = pd.read_csv('data/test.csv')[features_columns]\n",
    "test_ids = pd.read_csv('data/test.csv')['id']\n",
    "\n",
    "# init transformer\n",
    "my_transformer = MyTransformer(\n",
    "    all_features=features_columns,\n",
    "    categorical_features=categorical_features,\n",
    "    normal_transform_features=normal_transform_features,\n",
    "    power_transform_features=power_transform_features,\n",
    "    numerical_features=dont_transform_features + normal_transform_features + power_transform_features,\n",
    "    label_column=label_column,\n",
    ")\n",
    "\n",
    "# transform dataset\n",
    "train_X_df = my_transformer.features_fit_transform(train_df)\n",
    "train_Y_df = my_transformer.label_fit_transform(train_df)\n",
    "test_X_df = my_transformer.features_transform(test_df)\n",
    "\n",
    "# to numpy\n",
    "train_X = train_X_df.to_numpy()\n",
    "train_Y = train_Y_df.to_numpy()\n",
    "test_X = test_X_df.to_numpy()\n",
    "\n",
    "feature_size = train_X.shape[1]\n",
    "output_size = 1"
   ]
  },
  {
   "attachments": {},
   "cell_type": "markdown",
   "metadata": {},
   "source": [
    "# preprocess features"
   ]
  },
  {
   "cell_type": "code",
   "execution_count": 10,
   "metadata": {
    "ExecuteTime": {
     "end_time": "2023-05-29T15:22:10.224864Z",
     "start_time": "2023-05-29T15:22:09.954084Z"
    }
   },
   "outputs": [
    {
     "name": "stdout",
     "output_type": "stream",
     "text": [
      "1.6458940011648224\n",
      "1.6683168316831682\n",
      "1.6304601048340128\n",
      "1.6735585323238207\n",
      "1.7157833430401863\n",
      "Best Parameters: {'colsample_bytree': 0.8, 'learning_rate': 0.1, 'max_depth': 7, 'n_estimators': 200, 'subsample': 0.8}\n",
      "Best Score: 1.666802562609202\n",
      "0.9529411764705882\n",
      "train loss: -0.9529411764705882\n"
     ]
    }
   ],
   "source": [
    "X, Y = train_X, train_Y.reshape(-1)\n",
    "\n",
    "# Define the parameter grid for grid search\n",
    "param_grid = {\n",
    "    'max_depth': [7],\n",
    "    'learning_rate': [0.1],\n",
    "    'n_estimators': [200],\n",
    "    'subsample': [0.8],\n",
    "    'colsample_bytree': [0.8]\n",
    "}\n",
    "\n",
    "def custom_scorer(y_true, y_pred):\n",
    "    y_pred = my_transformer.inverse_label_transform(y_pred)\n",
    "    y_pred = np.clip(np.round(y_pred), 0, 9)\n",
    "    y_true = my_transformer.inverse_label_transform(y_true)\n",
    "    print(mean_absolute_error(y_true, y_pred))\n",
    "    return -mean_absolute_error(y_true, y_pred)\n",
    "\n",
    "# Create an instance of the HistGradientBoostingRegressor\n",
    "model = xgb.XGBRegressor\n",
    "\n",
    "# Perform grid search with cross-validation\n",
    "scoring = make_scorer(custom_scorer)\n",
    "grid_search = GridSearchCV(model(), param_grid, scoring=scoring, cv=5)\n",
    "grid_search.fit(X, Y)\n",
    "\n",
    "# Get the best parameters and best score\n",
    "best_params = grid_search.best_params_\n",
    "best_score = -grid_search.best_score_\n",
    "\n",
    "# Print the best parameters and score\n",
    "print(\"Best Parameters:\", best_params)\n",
    "print(\"Best Score:\", best_score)\n",
    "\n",
    "# Create a new instance of HistGradientBoostingRegressor with the best parameters\n",
    "trained_model = model(**best_params)\n",
    "\n",
    "# Fit the best HistGradientBoostingRegressor on the entire dataset\n",
    "trained_model = trained_model.fit(X, Y)\n",
    "# train loss\n",
    "y_pred = trained_model.predict(X)\n",
    "train_err = custom_scorer(Y, y_pred)\n",
    "\n",
    "print(f'train loss: {train_err}')"
   ]
  },
  {
   "cell_type": "code",
   "execution_count": 17,
   "metadata": {},
   "outputs": [
    {
     "data": {
      "text/plain": [
       "(array([ 669., 1196., 1610., 2000., 2391., 2674., 2692., 2419., 1286.,\n",
       "         233.]),\n",
       " array([0. , 0.9, 1.8, 2.7, 3.6, 4.5, 5.4, 6.3, 7.2, 8.1, 9. ]),\n",
       " <BarContainer object of 10 artists>)"
      ]
     },
     "execution_count": 17,
     "metadata": {},
     "output_type": "execute_result"
    },
    {
     "data": {
      "image/png": "[encoded data removed]",
      "text/plain": [
       "<Figure size 640x480 with 1 Axes>"
      ]
     },
     "metadata": {},
     "output_type": "display_data"
    }
   ],
   "source": [
    "# Make predictions on the test set\n",
    "test_predictions = trained_model.predict(train_X)\n",
    "test_predictions = my_transformer.inverse_label_transform(test_predictions)\n",
    "test_predictions = np.clip(np.round(test_predictions), 0, 9)\n",
    "test_predictions = test_predictions.astype(int).reshape(-1)\n",
    "\n",
    "# Prepare the submission dataframe\n",
    "submission_df = pd.DataFrame({'id': test_ids, 'Danceability': test_predictions})\n",
    "\n",
    "# Save the submission to a CSV file\n",
    "submission_df.to_csv('submission.csv', index=False)\n",
    "\n",
    "import matplotlib.pyplot as plt\n",
    "\n",
    "plt.hist(test_predictions, bins=10)"
   ]
  }
 ],
 "metadata": {
  "kernelspec": {
   "display_name": "venv",
   "language": "python",
   "name": "python3"
  },
  "language_info": {
   "codemirror_mode": {
    "name": "ipython",
    "version": 3
   },
   "file_extension": ".py",
   "mimetype": "text/x-python",
   "name": "python",
   "nbconvert_exporter": "python",
   "pygments_lexer": "ipython3",
   "version": "3.11.2"
  },
  "orig_nbformat": 4
 },
 "nbformat": 4,
 "nbformat_minor": 2
}
